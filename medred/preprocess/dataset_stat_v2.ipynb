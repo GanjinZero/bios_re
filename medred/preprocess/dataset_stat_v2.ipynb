{
 "cells": [
  {
   "cell_type": "code",
   "execution_count": 2,
   "metadata": {},
   "outputs": [],
   "source": [
    "import numpy as np\n",
    "import os\n",
    "import sys\n",
    "import ujson\n",
    "from tqdm import tqdm"
   ]
  },
  {
   "cell_type": "code",
   "execution_count": 3,
   "metadata": {},
   "outputs": [],
   "source": [
    "def load_file(file_path, limit=-1):\n",
    "    with open(file_path, \"r\", encoding=\"utf-8\") as f:\n",
    "        lines = f.readlines()\n",
    "    if limit == -1:\n",
    "        lines = [ujson.loads(line.strip()) for line in tqdm(lines)]\n",
    "    else:\n",
    "        lines = [ujson.loads(line.strip()) for line in tqdm(lines[0:min(limit, len(lines))])]\n",
    "    return lines"
   ]
  },
  {
   "cell_type": "code",
   "execution_count": 4,
   "metadata": {},
   "outputs": [],
   "source": [
    "def analysis_one_file(file_path, limit=-1):\n",
    "    print(file_path)\n",
    "    lines = load_file(file_path, limit)\n",
    "    cui_count = {}\n",
    "    rel_count = {}\n",
    "    cui_pair_count = {}\n",
    "    cui_pair_rel = {}\n",
    "    cui_set = set()\n",
    "    lines_set = set()\n",
    "\n",
    "    for line in lines:\n",
    "        cui0 = line['h']['id']\n",
    "        cui1 = line['t']['id']\n",
    "        rel = line['relation']\n",
    "        sen = line['text']\n",
    "        cui_set.update([cui0, cui1])\n",
    "        lines_set.update([sen])\n",
    "\n",
    "        # Stat\n",
    "        if not cui0 in cui_count:\n",
    "            cui_count[cui0] = 0\n",
    "        if not cui1 in cui_count:\n",
    "            cui_count[cui1] = 0\n",
    "        cui_count[cui0] += 1\n",
    "        cui_count[cui1] += 1\n",
    "\n",
    "        if not rel in rel_count:\n",
    "            rel_count[rel] = 0\n",
    "        rel_count[rel] += 1\n",
    "\n",
    "        cui_pair = cui0 + \"\\t\" + cui1\n",
    "        if not cui_pair in cui_pair_count:\n",
    "            cui_pair_count[cui_pair] = 0\n",
    "            cui_pair_rel[cui_pair] = set()\n",
    "        cui_pair_count[cui_pair] += 1\n",
    "        cui_pair_rel[cui_pair].update([rel])\n",
    "\n",
    "    print(f'Lines count:{len(lines)}')\n",
    "    non_na_lines = len(lines) - rel_count.get('NA', 0)\n",
    "    print(f'Non-NA Lines count:{non_na_lines}')\n",
    "    # entity\n",
    "    print(f'CUI count:{len(cui_count)}')\n",
    "    \n",
    "    # relation\n",
    "    print(f'Relation type count:{len(rel_count)}')\n",
    "\n",
    "    # entity pair (relation count, instance count)\n",
    "    print(f'CUI pair count:{len(cui_pair_count)}')\n",
    "\n",
    "    multiple_label_instance = [cui_pair for cui_pair in cui_pair_rel if len(cui_pair_rel[cui_pair]) > 1]\n",
    "    print(f'Multi label CUI pair count:{len(multiple_label_instance)}')\n",
    "    #print([(multiple_label_instance[i], cui_pair_rel[multiple_label_instance[i]]) for i in range(5)])\n",
    "    return cui_count, rel_count, cui_pair_count, cui_pair_rel\n",
    "\n",
    "#analysis_one_file('../dataset_v2/dev.txt')\n",
    "#analysis_one_file('../dataset_v2/test.txt')\n",
    "#analysis_one_file('../dataset_v2/train.txt')\n"
   ]
  },
  {
   "cell_type": "code",
   "execution_count": 8,
   "metadata": {},
   "outputs": [
    {
     "name": "stdout",
     "output_type": "stream",
     "text": [
      "../../data/sentence_coder_1105.json\n"
     ]
    },
    {
     "name": "stderr",
     "output_type": "stream",
     "text": [
      "100%|██████████| 15463273/15463273 [03:00<00:00, 85863.43it/s] \n"
     ]
    },
    {
     "name": "stdout",
     "output_type": "stream",
     "text": [
      "Lines count:15463273\n",
      "Non-NA Lines count:15463273\n",
      "CUI count:134577\n",
      "Relation type count:20\n",
      "CUI pair count:251336\n",
      "Multi label CUI pair count:0\n"
     ]
    }
   ],
   "source": [
    "cui_count, rel_count, cui_pair_count, cui_pair_rel = analysis_one_file('../../data/sentence_coder_1105.json', -1)"
   ]
  },
  {
   "cell_type": "code",
   "execution_count": 19,
   "metadata": {},
   "outputs": [
    {
     "name": "stdout",
     "output_type": "stream",
     "text": [
      "[('CN00453821', 46723), ('CN00028545', 2603646), ('CN01014918', 33609), ('CN00002361', 1529274), ('CN00114798', 878)]\n",
      "{'instance of': 5693704, 'subclass of': 4970935, 'biological process': 293891, 'cell component': 546118, 'medical condition treated': 282742, 'drug or therapy used for treatment': 248969, 'part of': 1039293, 'has part': 1212874, 'molecular function': 59023, 'parent taxon': 255052, 'symptoms and signs': 157580, 'possible treatment': 30638, 'encoded by': 148274, 'expressed in': 115156, 'subject has role': 252989, 'encodes': 34938, 'found in taxon': 80035, 'active ingredient in': 23242, 'has active ingredient': 5748, 'significant drug interaction': 12072}\n",
      "[('CN00453821\\tCN00028545', 46212), ('CN01014918\\tCN00002361', 12952), ('CN00114798\\tCN01014918', 878), ('CN00233642\\tCN00125281', 96), ('CN00205267\\tCN00002361', 4992)]\n",
      "[('CN00453821\\tCN00028545', {'instance of'}), ('CN01014918\\tCN00002361', {'instance of'}), ('CN00114798\\tCN01014918', {'subclass of'}), ('CN00233642\\tCN00125281', {'biological process'}), ('CN00205267\\tCN00002361', {'subclass of'})]\n"
     ]
    }
   ],
   "source": [
    "print(list(cui_count.items())[0:5])\n",
    "print(rel_count)\n",
    "print(list(cui_pair_count.items())[0:5])\n",
    "print(list(cui_pair_rel.items())[0:5])"
   ]
  }
 ],
 "metadata": {
  "interpreter": {
   "hash": "6a0f2a424dde3365a65b7e52d77ea1c611964bb623d7d7d202f5be9af0d7f8d4"
  },
  "kernelspec": {
   "display_name": "Python 3.6.5 64-bit ('base': conda)",
   "name": "python3"
  },
  "language_info": {
   "codemirror_mode": {
    "name": "ipython",
    "version": 3
   },
   "file_extension": ".py",
   "mimetype": "text/x-python",
   "name": "python",
   "nbconvert_exporter": "python",
   "pygments_lexer": "ipython3",
   "version": "3.6.5"
  },
  "orig_nbformat": 4
 },
 "nbformat": 4,
 "nbformat_minor": 2
}
