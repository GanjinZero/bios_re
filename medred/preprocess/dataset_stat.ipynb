{
 "metadata": {
  "language_info": {
   "codemirror_mode": {
    "name": "ipython",
    "version": 3
   },
   "file_extension": ".py",
   "mimetype": "text/x-python",
   "name": "python",
   "nbconvert_exporter": "python",
   "pygments_lexer": "ipython3",
   "version": "3.6.5"
  },
  "orig_nbformat": 4,
  "kernelspec": {
   "name": "python3",
   "display_name": "Python 3.6.5 64-bit ('base': conda)"
  },
  "interpreter": {
   "hash": "6a0f2a424dde3365a65b7e52d77ea1c611964bb623d7d7d202f5be9af0d7f8d4"
  }
 },
 "nbformat": 4,
 "nbformat_minor": 2,
 "cells": [
  {
   "cell_type": "code",
   "execution_count": 1,
   "metadata": {},
   "outputs": [],
   "source": [
    "import numpy as np\n",
    "import os\n",
    "import sys\n",
    "import ujson"
   ]
  },
  {
   "cell_type": "code",
   "execution_count": 2,
   "metadata": {},
   "outputs": [],
   "source": [
    "def load_file(file_path):\n",
    "    with open(file_path, \"r\", encoding=\"utf-8\") as f:\n",
    "        lines = f.readlines()\n",
    "    lines = [ujson.loads(line.strip()) for line in lines]\n",
    "    return lines"
   ]
  },
  {
   "cell_type": "code",
   "execution_count": 6,
   "metadata": {},
   "outputs": [
    {
     "output_type": "stream",
     "name": "stdout",
     "text": [
      "../dataset_v2/dev.txt\n",
      "Lines count:130428\n",
      "Non-NA Lines count:68370\n",
      "CUI count:36617\n",
      "Relation type count:113\n",
      "CUI pair count:85922\n",
      "Multi label CUI pair count:2945\n",
      "../dataset_v2/test.txt\n",
      "Lines count:114363\n",
      "Non-NA Lines count:100511\n",
      "CUI count:20161\n",
      "Relation type count:103\n",
      "CUI pair count:33585\n",
      "Multi label CUI pair count:2447\n"
     ]
    }
   ],
   "source": [
    "def analysis_one_file(file_path):\n",
    "    print(file_path)\n",
    "    lines = load_file(file_path)\n",
    "    cui_count = {}\n",
    "    rel_count = {}\n",
    "    cui_pair_count = {}\n",
    "    cui_pair_rel = {}\n",
    "    cui_set = set()\n",
    "    lines_set = set()\n",
    "\n",
    "    for line in lines:\n",
    "        cui0 = line['h']['id']\n",
    "        cui1 = line['t']['id']\n",
    "        rel = line['relation']\n",
    "        sen = line['text']\n",
    "        cui_set.update([cui0, cui1])\n",
    "        lines_set.update([sen])\n",
    "\n",
    "        # Stat\n",
    "        if not cui0 in cui_count:\n",
    "            cui_count[cui0] = 0\n",
    "        if not cui1 in cui_count:\n",
    "            cui_count[cui1] = 0\n",
    "        cui_count[cui0] += 1\n",
    "        cui_count[cui1] += 1\n",
    "\n",
    "        if not rel in rel_count:\n",
    "            rel_count[rel] = 0\n",
    "        rel_count[rel] += 1\n",
    "\n",
    "        cui_pair = cui0 + \"\\t\" + cui1\n",
    "        if not cui_pair in cui_pair_count:\n",
    "            cui_pair_count[cui_pair] = 0\n",
    "            cui_pair_rel[cui_pair] = set()\n",
    "        cui_pair_count[cui_pair] += 1\n",
    "        cui_pair_rel[cui_pair].update([rel])\n",
    "\n",
    "    print(f'Lines count:{len(lines)}')\n",
    "    non_na_lines = len(lines) - rel_count.get('NA', 0)\n",
    "    print(f'Non-NA Lines count:{non_na_lines}')\n",
    "    # entity\n",
    "    print(f'CUI count:{len(cui_count)}')\n",
    "    \n",
    "    # relation\n",
    "    print(f'Relation type count:{len(rel_count)}')\n",
    "\n",
    "    # entity pair (relation count, instance count)\n",
    "    print(f'CUI pair count:{len(cui_pair_count)}')\n",
    "\n",
    "    multiple_label_instance = [cui_pair for cui_pair in cui_pair_rel if len(cui_pair_rel[cui_pair]) > 1]\n",
    "    print(f'Multi label CUI pair count:{len(multiple_label_instance)}')\n",
    "    #print([(multiple_label_instance[i], cui_pair_rel[multiple_label_instance[i]]) for i in range(5)])\n",
    "\n",
    "analysis_one_file('../dataset_v2/dev.txt')\n",
    "analysis_one_file('../dataset_v2/test.txt')\n",
    "analysis_one_file('../dataset_v2/train.txt')\n"
   ]
  },
  {
   "cell_type": "code",
   "execution_count": null,
   "metadata": {},
   "outputs": [],
   "source": [
    "def overlap_analysis(file0, file1):\n",
    "    # entity\n",
    "\n",
    "\n",
    "    # relation\n",
    "\n",
    "\n",
    "    # entity pair\n",
    "\n",
    "\n",
    "    # sentence"
   ]
  }
 ]
}